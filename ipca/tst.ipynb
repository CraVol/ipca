{
 "cells": [
  {
   "cell_type": "code",
   "execution_count": 12,
   "metadata": {},
   "outputs": [
    {
     "name": "stderr",
     "output_type": "stream",
     "text": [
      "[========================================================================] 100%\n",
      "[========================================================================] 100%\n",
      "[========================================================================] 100%\n"
     ]
    },
    {
     "name": "stdout",
     "output_type": "stream",
     "text": [
      "The panel dimensions are:\n",
      "n_samples: 11 , L: 2 , T: 20\n",
      "Step 1 - Aggregate Update: 991039.7089779959\n",
      "Step 2 - Aggregate Update: 2.275957200481571e-15\n",
      "-- Convergence Reached --\n",
      "R2total 0.8652761174095233\n",
      "R2pred 0.7659286476739096\n",
      "The panel dimensions are:\n",
      "n_samples: 11 , L: 2 , T: 20\n",
      "R2total_x 1.0\n",
      "The panel dimensions are:\n",
      "n_samples: 11 , L: 2 , T: 20\n",
      "R2pred_x 0.688718213406356\n",
      "0:00:00.032888\n"
     ]
    }
   ],
   "source": [
    "import pytest\n",
    "import numpy as np\n",
    "from statsmodels.datasets import grunfeld\n",
    "import time\n",
    "from datetime import datetime\n",
    "\n",
    "from ipca import InstrumentedPCA\n",
    "\n",
    "\n",
    "# Test Construction Errors\n",
    "def test_construction_errors():\n",
    "  with pytest.raises(ValueError):\n",
    "    InstrumentedPCA(n_factors=0)\n",
    "  with pytest.raises(NotImplementedError):\n",
    "    InstrumentedPCA(intercept='jabberwocky')\n",
    "  with pytest.raises(ValueError):\n",
    "    InstrumentedPCA(iter_tol=2)\n",
    "\n",
    "\n",
    "# Create test data and run package\n",
    "data = grunfeld.load_pandas().data\n",
    "data.year = data.year.astype(np.int64)\n",
    "#data.firm = data.firm.apply(lambda x: x.decode('utf-8'))\n",
    "# Establish unique IDs to conform with package\n",
    "N = len(np.unique(data.firm))\n",
    "ID = dict(zip(np.unique(data.firm).tolist(), np.arange(1, N+1)+5))\n",
    "data.firm = data.firm.apply(lambda x: ID[x])\n",
    "# Ensure that ordering of the data is correct\n",
    "data = data[['firm', 'year', 'invest', 'value', 'capital']]\n",
    "# prep PSF test vars test vars\n",
    "PSF1 = np.random.randn(len(np.unique(data.loc[:, 'year'])), 1)\n",
    "PSF1 = PSF1.reshape((1, -1))\n",
    "PSF2 = np.random.randn(len(np.unique(data.loc[:, 'year'])), 2)\n",
    "PSF2 = PSF2.reshape((2, -1))\n",
    "data = data.set_index(['firm', 'year'])\n",
    "data_y = data['invest']\n",
    "data_x = data.drop('invest', axis=1)\n",
    "\n",
    "t0 = datetime.now()\n",
    "\n",
    "# Test InstrumentedPCA\n",
    "regr = InstrumentedPCA(n_factors=2, intercept=False)\n",
    "regr = regr.fit(X=data_x, y=data_y)\n",
    "temp = regr.get_factors()\n",
    "print(\"R2total\", regr.score(X=data_x, y=data_y))\n",
    "print(\"R2pred\", regr.score(X=data_x, y=data_y, mean_factor=True))\n",
    "print(\"R2total_x\", regr.score(X=data_x, y=data_y, data_type=\"portfolio\"))\n",
    "print(\"R2pred_x\", regr.score(X=data_x, y=data_y, mean_factor=True,\n",
    "                             data_type=\"portfolio\"))\n",
    "print(datetime.now() - t0)\n"
   ]
  },
  {
   "cell_type": "code",
   "execution_count": 22,
   "metadata": {},
   "outputs": [
    {
     "data": {
      "text/plain": [
       "20"
      ]
     },
     "execution_count": 22,
     "metadata": {},
     "output_type": "execute_result"
    }
   ],
   "source": [
    "len(data_x.loc[10])"
   ]
  },
  {
   "cell_type": "code",
   "execution_count": 21,
   "metadata": {},
   "outputs": [
    {
     "data": {
      "text/plain": [
       "(20,)"
      ]
     },
     "execution_count": 21,
     "metadata": {},
     "output_type": "execute_result"
    }
   ],
   "source": [
    "temp[1][0].shape"
   ]
  },
  {
   "cell_type": "code",
   "execution_count": null,
   "metadata": {},
   "outputs": [],
   "source": [
    "data.set_index(['firm', 'year'])"
   ]
  }
 ],
 "metadata": {
  "interpreter": {
   "hash": "2c6c461dd23e712b8b7688ed686d245a991f42d4ea75ac6d2ff1a3f913c06a61"
  },
  "kernelspec": {
   "display_name": "Python 3.8.5 ('base')",
   "language": "python",
   "name": "python3"
  },
  "language_info": {
   "codemirror_mode": {
    "name": "ipython",
    "version": 3
   },
   "file_extension": ".py",
   "mimetype": "text/x-python",
   "name": "python",
   "nbconvert_exporter": "python",
   "pygments_lexer": "ipython3",
   "version": "3.8.5"
  },
  "orig_nbformat": 4
 },
 "nbformat": 4,
 "nbformat_minor": 2
}

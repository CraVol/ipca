{
 "cells": [
  {
   "cell_type": "code",
   "execution_count": 28,
   "metadata": {},
   "outputs": [
    {
     "name": "stderr",
     "output_type": "stream",
     "text": [
      "[========================================================================] 100%\n"
     ]
    },
    {
     "name": "stdout",
     "output_type": "stream",
     "text": [
      "The panel dimensions are:\n",
      "n_samples: 11 , L: 2 , T: 20\n"
     ]
    },
    {
     "ename": "LinAlgError",
     "evalue": "Array must not contain infs or NaNs.",
     "output_type": "error",
     "traceback": [
      "\u001b[1;31m---------------------------------------------------------------------------\u001b[0m",
      "\u001b[1;31mLinAlgError\u001b[0m                               Traceback (most recent call last)",
      "\u001b[1;32m<ipython-input-28-3138805457a0>\u001b[0m in \u001b[0;36m<module>\u001b[1;34m\u001b[0m\n\u001b[0;32m     45\u001b[0m \u001b[1;31m# Test InstrumentedPCA\u001b[0m\u001b[1;33m\u001b[0m\u001b[1;33m\u001b[0m\u001b[1;33m\u001b[0m\u001b[0m\n\u001b[0;32m     46\u001b[0m \u001b[0mregr\u001b[0m \u001b[1;33m=\u001b[0m \u001b[0mInstrumentedPCA\u001b[0m\u001b[1;33m(\u001b[0m\u001b[0mn_factors\u001b[0m\u001b[1;33m=\u001b[0m\u001b[1;36m2\u001b[0m\u001b[1;33m,\u001b[0m \u001b[0mintercept\u001b[0m\u001b[1;33m=\u001b[0m\u001b[1;32mFalse\u001b[0m\u001b[1;33m)\u001b[0m\u001b[1;33m\u001b[0m\u001b[1;33m\u001b[0m\u001b[0m\n\u001b[1;32m---> 47\u001b[1;33m \u001b[0mregr\u001b[0m \u001b[1;33m=\u001b[0m \u001b[0mregr\u001b[0m\u001b[1;33m.\u001b[0m\u001b[0mfit\u001b[0m\u001b[1;33m(\u001b[0m\u001b[0mX\u001b[0m\u001b[1;33m=\u001b[0m\u001b[0mdata_x\u001b[0m\u001b[1;33m,\u001b[0m \u001b[0my\u001b[0m\u001b[1;33m=\u001b[0m\u001b[0mdata_y\u001b[0m\u001b[1;33m)\u001b[0m\u001b[1;33m\u001b[0m\u001b[1;33m\u001b[0m\u001b[0m\n\u001b[0m\u001b[0;32m     48\u001b[0m \u001b[0mtemp\u001b[0m \u001b[1;33m=\u001b[0m \u001b[0mregr\u001b[0m\u001b[1;33m.\u001b[0m\u001b[0mget_factors\u001b[0m\u001b[1;33m(\u001b[0m\u001b[1;33m)\u001b[0m\u001b[1;33m\u001b[0m\u001b[1;33m\u001b[0m\u001b[0m\n\u001b[0;32m     49\u001b[0m \u001b[0mprint\u001b[0m\u001b[1;33m(\u001b[0m\u001b[1;34m\"R2total\"\u001b[0m\u001b[1;33m,\u001b[0m \u001b[0mregr\u001b[0m\u001b[1;33m.\u001b[0m\u001b[0mscore\u001b[0m\u001b[1;33m(\u001b[0m\u001b[0mX\u001b[0m\u001b[1;33m=\u001b[0m\u001b[0mdata_x\u001b[0m\u001b[1;33m,\u001b[0m \u001b[0my\u001b[0m\u001b[1;33m=\u001b[0m\u001b[0mdata_y\u001b[0m\u001b[1;33m)\u001b[0m\u001b[1;33m)\u001b[0m\u001b[1;33m\u001b[0m\u001b[1;33m\u001b[0m\u001b[0m\n",
      "\u001b[1;32mc:\\Users\\Reze\\Documents\\GitHub\\ipca\\ipca\\ipca.py\u001b[0m in \u001b[0;36mfit\u001b[1;34m(self, X, y, indices, PSF, Gamma, Factors, data_type, label_ind, **kwargs)\u001b[0m\n\u001b[0;32m    219\u001b[0m \u001b[1;33m\u001b[0m\u001b[0m\n\u001b[0;32m    220\u001b[0m         \u001b[1;31m# Run IPCA\u001b[0m\u001b[1;33m\u001b[0m\u001b[1;33m\u001b[0m\u001b[1;33m\u001b[0m\u001b[0m\n\u001b[1;32m--> 221\u001b[1;33m         Gamma, Factors = self._fit_ipca(X=X, y=y, indices=indices, Q=Q,\n\u001b[0m\u001b[0;32m    222\u001b[0m                                         \u001b[0mW\u001b[0m\u001b[1;33m=\u001b[0m\u001b[0mW\u001b[0m\u001b[1;33m,\u001b[0m \u001b[0mval_obs\u001b[0m\u001b[1;33m=\u001b[0m\u001b[0mval_obs\u001b[0m\u001b[1;33m,\u001b[0m \u001b[0mPSF\u001b[0m\u001b[1;33m=\u001b[0m\u001b[0mPSF\u001b[0m\u001b[1;33m,\u001b[0m\u001b[1;33m\u001b[0m\u001b[1;33m\u001b[0m\u001b[0m\n\u001b[0;32m    223\u001b[0m                                         \u001b[0mGamma\u001b[0m\u001b[1;33m=\u001b[0m\u001b[0mGamma\u001b[0m\u001b[1;33m,\u001b[0m \u001b[0mFactors\u001b[0m\u001b[1;33m=\u001b[0m\u001b[0mFactors\u001b[0m\u001b[1;33m,\u001b[0m\u001b[1;33m\u001b[0m\u001b[1;33m\u001b[0m\u001b[0m\n",
      "\u001b[1;32mc:\\Users\\Reze\\Documents\\GitHub\\ipca\\ipca\\ipca.py\u001b[0m in \u001b[0;36m_fit_ipca\u001b[1;34m(self, X, y, indices, PSF, Q, W, val_obs, Gamma, Factors, quiet, data_type, **kwargs)\u001b[0m\n\u001b[0;32m   1013\u001b[0m         \u001b[1;32mwhile\u001b[0m\u001b[1;33m(\u001b[0m\u001b[1;33m(\u001b[0m\u001b[0miter\u001b[0m \u001b[1;33m<=\u001b[0m \u001b[0mself\u001b[0m\u001b[1;33m.\u001b[0m\u001b[0mmax_iter\u001b[0m\u001b[1;33m)\u001b[0m \u001b[1;32mand\u001b[0m \u001b[1;33m(\u001b[0m\u001b[0mtol_current\u001b[0m \u001b[1;33m>\u001b[0m \u001b[0mself\u001b[0m\u001b[1;33m.\u001b[0m\u001b[0miter_tol\u001b[0m\u001b[1;33m)\u001b[0m\u001b[1;33m)\u001b[0m\u001b[1;33m:\u001b[0m\u001b[1;33m\u001b[0m\u001b[1;33m\u001b[0m\u001b[0m\n\u001b[0;32m   1014\u001b[0m \u001b[1;33m\u001b[0m\u001b[0m\n\u001b[1;32m-> 1015\u001b[1;33m             Gamma_New, Factor_New = ALS_fit(Gamma_Old, *ALS_inputs,\n\u001b[0m\u001b[0;32m   1016\u001b[0m                                             PSF=PSF, **kwargs)\n\u001b[0;32m   1017\u001b[0m \u001b[1;33m\u001b[0m\u001b[0m\n",
      "\u001b[1;32mc:\\Users\\Reze\\Documents\\GitHub\\ipca\\ipca\\ipca.py\u001b[0m in \u001b[0;36m_ALS_fit_portfolio\u001b[1;34m(self, Gamma_Old, Q, W, val_obs, PSF, **kwargs)\u001b[0m\n\u001b[0;32m   1074\u001b[0m                     \u001b[0mF_New\u001b[0m \u001b[1;33m=\u001b[0m \u001b[0mnp\u001b[0m\u001b[1;33m.\u001b[0m\u001b[0mfull\u001b[0m\u001b[1;33m(\u001b[0m\u001b[1;33m(\u001b[0m\u001b[0mK\u001b[0m\u001b[1;33m,\u001b[0m \u001b[0mT\u001b[0m\u001b[1;33m)\u001b[0m\u001b[1;33m,\u001b[0m \u001b[0mnp\u001b[0m\u001b[1;33m.\u001b[0m\u001b[0mnan\u001b[0m\u001b[1;33m)\u001b[0m\u001b[1;33m\u001b[0m\u001b[1;33m\u001b[0m\u001b[0m\n\u001b[0;32m   1075\u001b[0m                     \u001b[1;32mfor\u001b[0m \u001b[0mt\u001b[0m \u001b[1;32min\u001b[0m \u001b[0mrange\u001b[0m\u001b[1;33m(\u001b[0m\u001b[0mT\u001b[0m\u001b[1;33m)\u001b[0m\u001b[1;33m:\u001b[0m\u001b[1;33m\u001b[0m\u001b[1;33m\u001b[0m\u001b[0m\n\u001b[1;32m-> 1076\u001b[1;33m                         F_New[:,t] = _Ft_fit_portfolio(Gamma_Old, W[:,:,t],\n\u001b[0m\u001b[0;32m   1077\u001b[0m                                                        Q[:,t])\n\u001b[0;32m   1078\u001b[0m \u001b[1;33m\u001b[0m\u001b[0m\n",
      "\u001b[1;32mc:\\Users\\Reze\\Documents\\GitHub\\ipca\\ipca\\ipca.py\u001b[0m in \u001b[0;36m_Ft_fit_portfolio\u001b[1;34m(Gamma_Old, W_t, Q_t)\u001b[0m\n\u001b[0;32m   1446\u001b[0m     \u001b[0mm2\u001b[0m \u001b[1;33m=\u001b[0m \u001b[0mGamma_Old\u001b[0m\u001b[1;33m.\u001b[0m\u001b[0mT\u001b[0m\u001b[1;33m.\u001b[0m\u001b[0mdot\u001b[0m\u001b[1;33m(\u001b[0m\u001b[0mQ_t\u001b[0m\u001b[1;33m)\u001b[0m\u001b[1;33m\u001b[0m\u001b[1;33m\u001b[0m\u001b[0m\n\u001b[0;32m   1447\u001b[0m \u001b[1;33m\u001b[0m\u001b[0m\n\u001b[1;32m-> 1448\u001b[1;33m     \u001b[1;32mreturn\u001b[0m \u001b[0mnp\u001b[0m\u001b[1;33m.\u001b[0m\u001b[0msqueeze\u001b[0m\u001b[1;33m(\u001b[0m\u001b[0m_numba_solve\u001b[0m\u001b[1;33m(\u001b[0m\u001b[0mm1\u001b[0m\u001b[1;33m,\u001b[0m \u001b[0mm2\u001b[0m\u001b[1;33m.\u001b[0m\u001b[0mreshape\u001b[0m\u001b[1;33m(\u001b[0m\u001b[1;33m(\u001b[0m\u001b[1;33m-\u001b[0m\u001b[1;36m1\u001b[0m\u001b[1;33m,\u001b[0m \u001b[1;36m1\u001b[0m\u001b[1;33m)\u001b[0m\u001b[1;33m)\u001b[0m\u001b[1;33m)\u001b[0m\u001b[1;33m)\u001b[0m\u001b[1;33m\u001b[0m\u001b[1;33m\u001b[0m\u001b[0m\n\u001b[0m\u001b[0;32m   1449\u001b[0m \u001b[1;33m\u001b[0m\u001b[0m\n\u001b[0;32m   1450\u001b[0m \u001b[1;33m\u001b[0m\u001b[0m\n",
      "\u001b[1;32m~\\anaconda3\\lib\\site-packages\\numba\\np\\linalg.py\u001b[0m in \u001b[0;36m_check_finite_matrix\u001b[1;34m()\u001b[0m\n\u001b[0;32m    750\u001b[0m     \u001b[1;32mfor\u001b[0m \u001b[0mv\u001b[0m \u001b[1;32min\u001b[0m \u001b[0mnp\u001b[0m\u001b[1;33m.\u001b[0m\u001b[0mnditer\u001b[0m\u001b[1;33m(\u001b[0m\u001b[0ma\u001b[0m\u001b[1;33m)\u001b[0m\u001b[1;33m:\u001b[0m\u001b[1;33m\u001b[0m\u001b[1;33m\u001b[0m\u001b[0m\n\u001b[0;32m    751\u001b[0m         \u001b[1;32mif\u001b[0m \u001b[1;32mnot\u001b[0m \u001b[0mnp\u001b[0m\u001b[1;33m.\u001b[0m\u001b[0misfinite\u001b[0m\u001b[1;33m(\u001b[0m\u001b[0mv\u001b[0m\u001b[1;33m.\u001b[0m\u001b[0mitem\u001b[0m\u001b[1;33m(\u001b[0m\u001b[1;33m)\u001b[0m\u001b[1;33m)\u001b[0m\u001b[1;33m:\u001b[0m\u001b[1;33m\u001b[0m\u001b[1;33m\u001b[0m\u001b[0m\n\u001b[1;32m--> 752\u001b[1;33m             raise np.linalg.LinAlgError(\n\u001b[0m\u001b[0;32m    753\u001b[0m                 \"Array must not contain infs or NaNs.\")\n\u001b[0;32m    754\u001b[0m \u001b[1;33m\u001b[0m\u001b[0m\n",
      "\u001b[1;31mLinAlgError\u001b[0m: Array must not contain infs or NaNs."
     ]
    }
   ],
   "source": [
    "import pytest\n",
    "import numpy as np\n",
    "from statsmodels.datasets import grunfeld\n",
    "import time\n",
    "from datetime import datetime\n",
    "\n",
    "from ipca import InstrumentedPCA\n",
    "\n",
    "\n",
    "# Test Construction Errors\n",
    "def test_construction_errors():\n",
    "  with pytest.raises(ValueError):\n",
    "    InstrumentedPCA(n_factors=0)\n",
    "  with pytest.raises(NotImplementedError):\n",
    "    InstrumentedPCA(intercept='jabberwocky')\n",
    "  with pytest.raises(ValueError):\n",
    "    InstrumentedPCA(iter_tol=2)\n",
    "\n",
    "\n",
    "# Create test data and run package\n",
    "data = grunfeld.load_pandas().data\n",
    "data.year = data.year.astype(np.int64)\n",
    "\n",
    "#data.firm = data.firm.apply(lambda x: x.decode('utf-8'))\n",
    "# Establish unique IDs to conform with package\n",
    "N = len(np.unique(data.firm))\n",
    "ID = dict(zip(np.unique(data.firm).tolist(), np.arange(1, N+1)+5))\n",
    "data.firm = data.firm.apply(lambda x: ID[x])\n",
    "# Ensure that ordering of the data is correct\n",
    "data = data[['firm', 'year', 'invest', 'value', 'capital']]\n",
    "\n",
    "# prep PSF test vars test vars\n",
    "PSF1 = np.random.randn(len(np.unique(data.loc[:, 'year'])), 1)\n",
    "PSF1 = PSF1.reshape((1, -1))\n",
    "PSF2 = np.random.randn(len(np.unique(data.loc[:, 'year'])), 2)\n",
    "PSF2 = PSF2.reshape((2, -1))\n",
    "data = data.set_index(['firm', 'year'])\n",
    "for i in set(i[0] for i in data.index):\n",
    "    data.loc[(i,1935),'invest'] = np.nan\n",
    "data_y = data['invest']\n",
    "data_x = data.drop('invest', axis=1)\n",
    "\n",
    "t0 = datetime.now()\n",
    "\n",
    "# Test InstrumentedPCA\n",
    "regr = InstrumentedPCA(n_factors=2, intercept=False)\n",
    "regr = regr.fit(X=data_x, y=data_y)\n",
    "temp = regr.get_factors()\n",
    "print(\"R2total\", regr.score(X=data_x, y=data_y))\n",
    "print(\"R2pred\", regr.score(X=data_x, y=data_y, mean_factor=True))\n",
    "print(\"R2total_x\", regr.score(X=data_x, y=data_y, data_type=\"portfolio\"))\n",
    "print(\"R2pred_x\", regr.score(X=data_x, y=data_y, mean_factor=True,\n",
    "                             data_type=\"portfolio\"))\n",
    "print(datetime.now() - t0)\n"
   ]
  },
  {
   "cell_type": "code",
   "execution_count": 23,
   "metadata": {},
   "outputs": [
    {
     "data": {
      "text/plain": [
       "{6, 7, 8, 9, 10, 11, 12, 13, 14, 15, 16}"
      ]
     },
     "execution_count": 23,
     "metadata": {},
     "output_type": "execute_result"
    }
   ],
   "source": [
    "set(i[0] for i in data.index)"
   ]
  },
  {
   "cell_type": "code",
   "execution_count": 24,
   "metadata": {},
   "outputs": [],
   "source": [
    "for i in set(i[0] for i in data.index):\n",
    "    data.loc[(i,1935),'invest'] = np.nan\n",
    "    "
   ]
  },
  {
   "cell_type": "code",
   "execution_count": 21,
   "metadata": {},
   "outputs": [
    {
     "data": {
      "text/plain": [
       "(20,)"
      ]
     },
     "execution_count": 21,
     "metadata": {},
     "output_type": "execute_result"
    }
   ],
   "source": [
    "temp[1][0].shape"
   ]
  },
  {
   "cell_type": "code",
   "execution_count": null,
   "metadata": {},
   "outputs": [],
   "source": [
    "data.set_index(['firm', 'year'])"
   ]
  }
 ],
 "metadata": {
  "interpreter": {
   "hash": "2c6c461dd23e712b8b7688ed686d245a991f42d4ea75ac6d2ff1a3f913c06a61"
  },
  "kernelspec": {
   "display_name": "Python 3.8.5 ('base')",
   "language": "python",
   "name": "python3"
  },
  "language_info": {
   "codemirror_mode": {
    "name": "ipython",
    "version": 3
   },
   "file_extension": ".py",
   "mimetype": "text/x-python",
   "name": "python",
   "nbconvert_exporter": "python",
   "pygments_lexer": "ipython3",
   "version": "3.8.5"
  },
  "orig_nbformat": 4
 },
 "nbformat": 4,
 "nbformat_minor": 2
}
